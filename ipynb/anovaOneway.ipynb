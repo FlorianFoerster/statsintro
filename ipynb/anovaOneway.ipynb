{
 "metadata": {
  "name": "anovaOneway"
 },
 "nbformat": 3,
 "nbformat_minor": 0,
 "worksheets": [
  {
   "cells": [
    {
     "cell_type": "code",
     "collapsed": false,
     "input": [
      "''' Analysis of Variance (ANOVA)\n",
      "- Levene test\n",
      "- ANOVA - oneway\n",
      "\n",
      "'''\n",
      "\n",
      "'''\n",
      "Author:  Thomas Haslwanter\n",
      "Date:    May-2013\n",
      "Version: 1.3\n",
      "'''\n",
      "\n",
      "%pylab inline\n",
      "import scipy.stats as stats\n",
      "import pandas as pd\n",
      "from getdata import getData\n",
      "from statsmodels.formula.api import ols\n",
      "from statsmodels.stats.anova import anova_lm"
     ],
     "language": "python",
     "metadata": {},
     "outputs": [
      {
       "output_type": "stream",
       "stream": "stdout",
       "text": [
        "\n",
        "Welcome to pylab, a matplotlib-based Python environment [backend: module://IPython.zmq.pylab.backend_inline].\n",
        "For more information, type 'help(pylab)'.\n"
       ]
      }
     ],
     "prompt_number": 1
    },
    {
     "cell_type": "code",
     "collapsed": false,
     "input": [
      "''' One-way ANOVA: test if results from 3 groups are equal. '''\n",
      "\n",
      "# Get the data\n",
      "data = getData(r'data_altman/altman_910.txt', subDir=r'..\\Data')\n",
      "\n",
      "# Sort them into groups, according to column 1\n",
      "group1 = data[data[:,1]==1,0]\n",
      "group2 = data[data[:,1]==2,0]\n",
      "group3 = data[data[:,1]==3,0]\n",
      "\n",
      "# First, check if the variances are equal, with the \"Levene\"-test\n",
      "(W,p) = stats.levene(group1, group2, group3)\n",
      "if p<0.05:\n",
      "    print('Warning: the p-value of the Levene test is <0.05: p={0}'.format(p))"
     ],
     "language": "python",
     "metadata": {},
     "outputs": [
      {
       "output_type": "stream",
       "stream": "stdout",
       "text": [
        "..\\Datax\\data_altman/altman_910.txt does not exist: Trying to read from WWW\n",
        "https://raw.github.com/thomas-haslwanter/statsintro/master/Data/data_altman/altman_910.txt\n",
        "Warning: the p-value of the Levene test is <0.05: p=0.0458468126342"
       ]
      },
      {
       "output_type": "stream",
       "stream": "stdout",
       "text": [
        "\n"
       ]
      }
     ],
     "prompt_number": 8
    },
    {
     "cell_type": "code",
     "collapsed": false,
     "input": [
      "# Do the one-way ANOVA\n",
      "F_statistic, pVal = stats.f_oneway(group1, group2, group3)\n",
      "\n",
      "# Print the results\n",
      "print 'Altman 910:'\n",
      "print (F_statistic, pVal)\n",
      "if pVal < 0.05:\n",
      "    print('One of the groups is significantly different.')"
     ],
     "language": "python",
     "metadata": {},
     "outputs": [
      {
       "output_type": "stream",
       "stream": "stdout",
       "text": [
        "Altman 910:\n",
        "(3.711335988266943, 0.043589334959179327)\n",
        "One of the groups is significantly different.\n"
       ]
      }
     ],
     "prompt_number": 3
    },
    {
     "cell_type": "code",
     "collapsed": false,
     "input": [
      "# Elegant alternative implementation, with pandas & statsmodels\n",
      "df = pd.DataFrame(data, columns=['value', 'treatment'])    \n",
      "model = ols('value ~ C(treatment)', df).fit()\n",
      "print anova_lm(model)"
     ],
     "language": "python",
     "metadata": {},
     "outputs": [
      {
       "output_type": "stream",
       "stream": "stdout",
       "text": [
        "              df        sum_sq      mean_sq         F    PR(>F)\n",
        "C(treatment)   2  15515.766414  7757.883207  3.711336  0.043589\n",
        "Residual      19  39716.097222  2090.320906       NaN       NaN\n"
       ]
      }
     ],
     "prompt_number": 4
    }
   ],
   "metadata": {}
  }
 ]
}