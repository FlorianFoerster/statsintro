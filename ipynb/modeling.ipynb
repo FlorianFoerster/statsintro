{
 "metadata": {
  "name": ""
 },
 "nbformat": 3,
 "nbformat_minor": 0,
 "worksheets": [
  {
   "cells": [
    {
     "cell_type": "code",
     "collapsed": false,
     "input": [
      "'''Simple linear models.\n",
      "- \"model_formulas\" is based on examples in Kaplan \"Statistical Modeling\".\n",
      "- \"polynomial_regression\" shows how to work with simple design matrices, like MATLAB's \"regress\" command.\n",
      "\n",
      "'''\n",
      "\n",
      "'''\n",
      "Author: Thomas Haslwanter\n",
      "Date:   May-2013\n",
      "Ver:    2.1\n",
      "'''\n",
      "\n",
      "%pylab inline\n",
      "from pandas import read_csv\n",
      "from urllib.request import urlopen\n",
      "from statsmodels.formula.api import ols\n",
      "import statsmodels.regression.linear_model as sm\n",
      "from statsmodels.stats.anova import anova_lm"
     ],
     "language": "python",
     "metadata": {},
     "outputs": [
      {
       "output_type": "stream",
       "stream": "stdout",
       "text": [
        "Populating the interactive namespace from numpy and matplotlib\n"
       ]
      }
     ],
     "prompt_number": 20
    },
    {
     "cell_type": "code",
     "collapsed": false,
     "input": [
      "''' Define models through formulas '''\n",
      "# Get the data\n",
      "inFile = 'swim100m.csv'\n",
      "url_base = 'https://raw.github.com/thomas-haslwanter/statsintro/master/Data/data_kaplan/'\n",
      "url = url_base + inFile\n",
      "data = read_csv(urlopen(url))"
     ],
     "language": "python",
     "metadata": {},
     "outputs": [],
     "prompt_number": 21
    },
    {
     "cell_type": "heading",
     "level": 3,
     "metadata": {},
     "source": [
      "OLS Model"
     ]
    },
    {
     "cell_type": "code",
     "collapsed": false,
     "input": [
      "# Different models\n",
      "model1 = ols(\"time ~ sex\", data).fit()  # one factor\n",
      "print(model1.summary())"
     ],
     "language": "python",
     "metadata": {},
     "outputs": [
      {
       "output_type": "stream",
       "stream": "stdout",
       "text": [
        "                            OLS Regression Results                            \n",
        "==============================================================================\n",
        "Dep. Variable:                   time   R-squared:                       0.287\n",
        "Model:                            OLS   Adj. R-squared:                  0.275\n",
        "Method:                 Least Squares   F-statistic:                     24.13\n",
        "Date:                Tue, 25 Feb 2014   Prob (F-statistic):           7.28e-06\n",
        "Time:                        14:56:06   Log-Likelihood:                -219.23\n",
        "No. Observations:                  62   AIC:                             442.5\n",
        "Df Residuals:                      60   BIC:                             446.7\n",
        "Df Model:                           1                                         \n",
        "==============================================================================\n",
        "                 coef    std err          t      P>|t|      [95.0% Conf. Int.]\n",
        "------------------------------------------------------------------------------\n",
        "Intercept     65.1923      1.517     42.986      0.000        62.159    68.226\n",
        "sex[T.M]     -10.5361      2.145     -4.912      0.000       -14.826    -6.246\n",
        "==============================================================================\n",
        "Omnibus:                       16.370   Durbin-Watson:                   0.353\n",
        "Prob(Omnibus):                  0.000   Jarque-Bera (JB):               19.838\n",
        "Skew:                           1.113   Prob(JB):                     4.92e-05\n",
        "Kurtosis:                       4.649   Cond. No.                         2.62\n",
        "==============================================================================\n"
       ]
      }
     ],
     "prompt_number": 22
    },
    {
     "cell_type": "heading",
     "level": 3,
     "metadata": {},
     "source": [
      "ANOVA"
     ]
    },
    {
     "cell_type": "code",
     "collapsed": false,
     "input": [
      "print(anova_lm(model1))"
     ],
     "language": "python",
     "metadata": {},
     "outputs": [
      {
       "output_type": "stream",
       "stream": "stdout",
       "text": [
        "          df       sum_sq      mean_sq          F    PR(>F)\n",
        "sex        1  1720.655232  1720.655232  24.132575  0.000007\n",
        "Residual  60  4278.006477    71.300108        NaN       NaN\n",
        "\n",
        "[2 rows x 5 columns]\n"
       ]
      }
     ],
     "prompt_number": 23
    },
    {
     "cell_type": "code",
     "collapsed": false,
     "input": [
      "model2 = ols(\"time ~ sex + year\", data).fit()   # two factors\n",
      "print(model2.summary())\n"
     ],
     "language": "python",
     "metadata": {},
     "outputs": [
      {
       "output_type": "stream",
       "stream": "stdout",
       "text": [
        "                            OLS Regression Results                            \n",
        "==============================================================================\n",
        "Dep. Variable:                   time   R-squared:                       0.844\n",
        "Model:                            OLS   Adj. R-squared:                  0.839\n",
        "Method:                 Least Squares   F-statistic:                     159.6\n",
        "Date:                Tue, 25 Feb 2014   Prob (F-statistic):           1.58e-24\n",
        "Time:                        14:56:06   Log-Likelihood:                -172.12\n",
        "No. Observations:                  62   AIC:                             350.2\n",
        "Df Residuals:                      59   BIC:                             356.6\n",
        "Df Model:                           2                                         \n",
        "==============================================================================\n",
        "                 coef    std err          t      P>|t|      [95.0% Conf. Int.]\n",
        "------------------------------------------------------------------------------\n",
        "Intercept    555.7168     33.800     16.441      0.000       488.083   623.350\n",
        "sex[T.M]      -9.7980      1.013     -9.673      0.000       -11.825    -7.771\n",
        "year          -0.2515      0.017    -14.516      0.000        -0.286    -0.217\n",
        "==============================================================================\n",
        "Omnibus:                       52.546   Durbin-Watson:                   0.375\n",
        "Prob(Omnibus):                  0.000   Jarque-Bera (JB):              241.626\n",
        "Skew:                           2.430   Prob(JB):                     3.40e-53\n",
        "Kurtosis:                      11.362   Cond. No.                     1.30e+05\n",
        "==============================================================================\n",
        "\n",
        "Warnings:\n",
        "[1] The condition number is large, 1.3e+05. This might indicate that there are\n",
        "strong multicollinearity or other numerical problems.\n"
       ]
      }
     ],
     "prompt_number": 24
    },
    {
     "cell_type": "code",
     "collapsed": false,
     "input": [
      "print(anova_lm(model2))"
     ],
     "language": "python",
     "metadata": {},
     "outputs": [
      {
       "output_type": "stream",
       "stream": "stdout",
       "text": [
        "          df       sum_sq      mean_sq           F        PR(>F)\n",
        "sex        1  1720.655232  1720.655232  108.479881  5.475511e-15\n",
        "year       1  3342.177104  3342.177104  210.709831  3.935386e-21\n",
        "Residual  59   935.829374    15.861515         NaN           NaN\n",
        "\n",
        "[3 rows x 5 columns]\n"
       ]
      }
     ],
     "prompt_number": 25
    },
    {
     "cell_type": "code",
     "collapsed": false,
     "input": [
      "model3 = ols(\"time ~ sex * year\", data).fit()   # two factors with interaction\n",
      "print(model3.summary())"
     ],
     "language": "python",
     "metadata": {},
     "outputs": [
      {
       "output_type": "stream",
       "stream": "stdout",
       "text": [
        "                            OLS Regression Results                            \n",
        "==============================================================================\n",
        "Dep. Variable:                   time   R-squared:                       0.893\n",
        "Model:                            OLS   Adj. R-squared:                  0.888\n",
        "Method:                 Least Squares   F-statistic:                     162.1\n",
        "Date:                Tue, 25 Feb 2014   Prob (F-statistic):           3.67e-28\n",
        "Time:                        14:56:06   Log-Likelihood:                -160.30\n",
        "No. Observations:                  62   AIC:                             328.6\n",
        "Df Residuals:                      58   BIC:                             337.1\n",
        "Df Model:                           3                                         \n",
        "=================================================================================\n",
        "                    coef    std err          t      P>|t|      [95.0% Conf. Int.]\n",
        "---------------------------------------------------------------------------------\n",
        "Intercept       697.3012     39.221     17.779      0.000       618.791   775.811\n",
        "sex[T.M]       -302.4638     56.412     -5.362      0.000      -415.384  -189.544\n",
        "year             -0.3240      0.020    -16.118      0.000        -0.364    -0.284\n",
        "sex[T.M]:year     0.1499      0.029      5.189      0.000         0.092     0.208\n",
        "==============================================================================\n",
        "Omnibus:                       49.919   Durbin-Watson:                   0.575\n",
        "Prob(Omnibus):                  0.000   Jarque-Bera (JB):              243.008\n",
        "Skew:                           2.224   Prob(JB):                     1.70e-53\n",
        "Kurtosis:                      11.619   Cond. No.                     3.40e+05\n",
        "==============================================================================\n",
        "\n",
        "Warnings:\n",
        "[1] The condition number is large, 3.4e+05. This might indicate that there are\n",
        "strong multicollinearity or other numerical problems.\n"
       ]
      }
     ],
     "prompt_number": 26
    },
    {
     "cell_type": "code",
     "collapsed": false,
     "input": [
      "print(anova_lm(model3))"
     ],
     "language": "python",
     "metadata": {},
     "outputs": [
      {
       "output_type": "stream",
       "stream": "stdout",
       "text": [
        "          df       sum_sq      mean_sq           F        PR(>F)\n",
        "sex        1  1720.655232  1720.655232  156.140793  4.299569e-18\n",
        "year       1  3342.177104  3342.177104  303.285733  1.039245e-24\n",
        "sex:year   1   296.675432   296.675432   26.921801  2.826421e-06\n",
        "Residual  58   639.153942    11.019896         NaN           NaN\n",
        "\n",
        "[4 rows x 5 columns]\n"
       ]
      }
     ],
     "prompt_number": 27
    },
    {
     "cell_type": "heading",
     "level": 1,
     "metadata": {},
     "source": [
      "Polynomial Regression"
     ]
    },
    {
     "cell_type": "code",
     "collapsed": false,
     "input": [
      "''' Define the model directly through the design matrix. Similar to MATLAB's \"regress\" command '''\n",
      "\n",
      "# Generate the data\n",
      "t = np.arange(0,10,0.1)\n",
      "y = 4 + 3*t + 2*t**2 + 5*np.random.randn(len(t))\n",
      "\n",
      "# Make the fit. Note that this is another \"OLS\" than the one in \"model_formulas\"!\n",
      "M = np.column_stack((np.ones(len(t)), t, t**2))\n",
      "res = sm.OLS(y, M).fit()\n",
      "    \n",
      "# Display the results\n",
      "print('Summary:')\n",
      "print(res.summary())"
     ],
     "language": "python",
     "metadata": {},
     "outputs": [
      {
       "output_type": "stream",
       "stream": "stdout",
       "text": [
        "Summary:\n",
        "                            OLS Regression Results                            \n",
        "==============================================================================\n",
        "Dep. Variable:                      y   R-squared:                       0.994\n",
        "Model:                            OLS   Adj. R-squared:                  0.994\n",
        "Method:                 Least Squares   F-statistic:                     8581.\n",
        "Date:                Tue, 25 Feb 2014   Prob (F-statistic):          7.30e-110\n",
        "Time:                        14:56:06   Log-Likelihood:                -303.57\n",
        "No. Observations:                 100   AIC:                             613.1\n",
        "Df Residuals:                      97   BIC:                             621.0\n",
        "Df Model:                           2                                         \n",
        "==============================================================================\n",
        "                 coef    std err          t      P>|t|      [95.0% Conf. Int.]\n",
        "------------------------------------------------------------------------------\n",
        "const          2.9308      1.504      1.949      0.054        -0.054     5.916\n",
        "x1             3.9542      0.702      5.632      0.000         2.561     5.348\n",
        "x2             1.8925      0.069     27.575      0.000         1.756     2.029\n",
        "==============================================================================\n",
        "Omnibus:                        0.350   Durbin-Watson:                   1.740\n",
        "Prob(Omnibus):                  0.840   Jarque-Bera (JB):                0.508\n",
        "Skew:                           0.106   Prob(JB):                        0.776\n",
        "Kurtosis:                       2.723   Cond. No.                         142.\n",
        "==============================================================================\n"
       ]
      }
     ],
     "prompt_number": 28
    },
    {
     "cell_type": "code",
     "collapsed": false,
     "input": [
      "print('The fit parameters are: {0}'.format(str(res.params)))\n",
      "print('The confidence intervals are:')\n",
      "print(res.conf_int())"
     ],
     "language": "python",
     "metadata": {},
     "outputs": [
      {
       "output_type": "stream",
       "stream": "stdout",
       "text": [
        "The fit parameters are: [ 2.93076553  3.95424112  1.89245482]\n",
        "The confidence intervals are:\n",
        "[[-0.0543682   5.91589926]\n",
        " [ 2.56065008  5.34783216]\n",
        " [ 1.75624265  2.028667  ]]\n"
       ]
      }
     ],
     "prompt_number": 29
    }
   ],
   "metadata": {}
  }
 ]
}