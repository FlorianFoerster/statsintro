{
 "metadata": {
  "name": "anovaTwoway"
 },
 "nbformat": 3,
 "nbformat_minor": 0,
 "worksheets": [
  {
   "cells": [
    {
     "cell_type": "code",
     "collapsed": false,
     "input": [
      "''' Twoway Analysis of Variance (ANOVA)\n",
      "\n",
      "'''\n",
      "\n",
      "'''\n",
      "Author:  Thomas Haslwanter\n",
      "Date:    May-2013\n",
      "Version: 1.2\n",
      "'''\n",
      "\n",
      "%pylab inline\n",
      "import pandas as pd\n",
      "from getdata import getData\n",
      "from statsmodels.formula.api import ols\n",
      "from statsmodels.stats.anova import anova_lm"
     ],
     "language": "python",
     "metadata": {},
     "outputs": [
      {
       "output_type": "stream",
       "stream": "stdout",
       "text": [
        "\n",
        "Welcome to pylab, a matplotlib-based Python environment [backend: module://IPython.zmq.pylab.backend_inline].\n",
        "For more information, type 'help(pylab)'.\n"
       ]
      }
     ],
     "prompt_number": 1
    },
    {
     "cell_type": "code",
     "collapsed": false,
     "input": [
      "'''ANOVA with interaction: Measurement of fetal head circumference,\n",
      "by four observers in three fetuses.'''\n",
      "\n",
      "# Get the data\n",
      "data = getData('altman_12_6.txt', subDir=r'..\\Data\\data_altman')\n",
      "\n",
      "# Bring them in dataframe-format\n",
      "df = pd.DataFrame(data, columns=['hs', 'fetus', 'observer'])\n",
      "\n",
      "# Determine the ANOVA with interaction\n",
      "formula = 'hs ~ C(fetus) + C(observer) + C(fetus):C(observer)'\n",
      "lm = ols(formula, df).fit()\n",
      "print anova_lm(lm)"
     ],
     "language": "python",
     "metadata": {},
     "outputs": [
      {
       "output_type": "stream",
       "stream": "stdout",
       "text": [
        "                      df      sum_sq     mean_sq            F        PR(>F)\n",
        "C(fetus)               2  324.008889  162.004444  2113.101449  1.051039e-27\n",
        "C(observer)            3    1.198611    0.399537     5.211353  6.497055e-03\n",
        "C(fetus):C(observer)   6    0.562222    0.093704     1.222222  3.295509e-01\n",
        "Residual              24    1.840000    0.076667          NaN           NaN\n"
       ]
      }
     ],
     "prompt_number": 2
    },
    {
     "cell_type": "code",
     "collapsed": false,
     "input": [],
     "language": "python",
     "metadata": {},
     "outputs": [],
     "prompt_number": 2
    }
   ],
   "metadata": {}
  }
 ]
}
