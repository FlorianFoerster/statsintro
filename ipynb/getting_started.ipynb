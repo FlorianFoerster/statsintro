{
 "metadata": {
  "name": ""
 },
 "nbformat": 3,
 "nbformat_minor": 0,
 "worksheets": [
  {
   "cells": [
    {
     "cell_type": "heading",
     "level": 1,
     "metadata": {},
     "source": [
      "Docstrings"
     ]
    },
    {
     "cell_type": "raw",
     "metadata": {},
     "source": [
      "'''The top of Python files should always be a short documentation about the\n",
      "contesnt of the file, or \"docstring\".\n",
      "\n",
      "This ipyton notebook is short demonstration of Python for scientific data analysis\n",
      "\n",
      "This script covers the following points:\n",
      "* Plotting a sine wave\n",
      "* Generating a column matrix of data\n",
      "* Writing data to a text-file, and reading data from a text-file\n",
      "* Waiting for a button-press to continue the program exectution\n",
      "* Using a dictionary, which is similar to MATLAB structures\n",
      "* Extracting data which fulfill a certain condition\n",
      "* Calculating the best-fit-line to noisy data\n",
      "* Formatting text-output\n",
      "* Waiting for a keyboard-press\n",
      "* Calculating confidence intervals for line-fits\n",
      "* Saving figures\n",
      "\n",
      "For such a short program, the definition of a \"main\" function, and calling\n",
      "it by default when the module is imported by the main program, is a bit\n",
      "superfluous. But it shows good Python coding style.\n",
      "\n",
      "'''\n",
      "\n",
      "'''\n",
      "Author: Thomas Haslwanter\n",
      "Version:  1.1\n",
      "Date:  Dec-2012\n",
      "'''\n"
     ]
    },
    {
     "cell_type": "heading",
     "level": 1,
     "metadata": {},
     "source": [
      "Modules and Packages"
     ]
    },
    {
     "cell_type": "code",
     "collapsed": false,
     "input": [
      "# To see the plots inline, even if you have not started the notebook via *ipython notebook --pylab=inline*\n",
      "% pylab inline\n",
      "\n",
      "# In contrast to MATLAB, you explicitly have to load the modules that you need.\n",
      "# And don't worry here about not knowing the right modules: numpy, scipy, and\n",
      "# matplotlib is almost everything you will need most of the time, and you\n",
      "# will quickly get used to those.\n",
      "\n",
      "import numpy as np\n",
      "import scipy as sp\n",
      "import matplotlib.pyplot as plt\n",
      "# These abbreviations for numpy, scipy, and matplotlib.pyplot are very common!\n",
      "\n",
      "# Pandas is mainly used for statistics and worksheet-like data\n",
      "import pandas"
     ],
     "language": "python",
     "metadata": {},
     "outputs": [
      {
       "output_type": "stream",
       "stream": "stdout",
       "text": [
        "Populating the interactive namespace from numpy and matplotlib\n"
       ]
      }
     ],
     "prompt_number": 9
    },
    {
     "cell_type": "heading",
     "level": 1,
     "metadata": {},
     "source": [
      "Sine Wave"
     ]
    },
    {
     "cell_type": "code",
     "collapsed": false,
     "input": [
      "# Create a sine-wave\n",
      "t = np.arange(0,10,0.1)\n",
      "x = np.sin(t)\n",
      "\n",
      "# Note: in contrast to MATLAB you have to specify where your commands come from\n",
      "# (unless you used \"from xxx import *\"\n",
      "\n",
      "# Save the data in a text-file, in column form\n",
      "# The formatting is a bit clumsy: data are by default row variables; so to\n",
      "# get a matrix, you stack the two rows above each other, and then transpose\n",
      "# the matrix\n",
      "outFile = 'test.txt'\n",
      "np.savetxt(outFile, np.vstack([t,x]).T)"
     ],
     "language": "python",
     "metadata": {},
     "outputs": [],
     "prompt_number": 10
    },
    {
     "cell_type": "code",
     "collapsed": false,
     "input": [
      "# Read the data into a different variable\n",
      "inData = np.loadtxt(outFile)\n",
      "t2 = inData[:,0] # Note that Python starts at \"0\"!\n",
      "x2 = inData[:,1]\n",
      "\n",
      "# Plot the data, and wait for the user to click\n",
      "plot(t,cos(t))"
     ],
     "language": "python",
     "metadata": {},
     "outputs": [
      {
       "metadata": {},
       "output_type": "pyout",
       "prompt_number": 13,
       "text": [
        "[<matplotlib.lines.Line2D at 0xed4b8f0>]"
       ]
      },
      {
       "metadata": {},
       "output_type": "display_data",
       "png": "[encoded data removed]",
       "text": [
        "<matplotlib.figure.Figure at 0xec22970>"
       ]
      }
     ],
     "prompt_number": 13
    },
    {
     "cell_type": "heading",
     "level": 1,
     "metadata": {},
     "source": [
      "Noisy Data and Linefits"
     ]
    },
    {
     "cell_type": "markdown",
     "metadata": {},
     "source": [
      "Fit the following function: \n",
      "$y = k*x + d$"
     ]
    },
    {
     "cell_type": "code",
     "collapsed": false,
     "input": [
      "# Generate a noisy line\n",
      "t = np.arange(-100,100)\n",
      "# use a Python \"dictionary\" for named variables\n",
      "par = {'offset':100, 'slope':0.5, 'noiseAmp':4}\n",
      "x = par['offset'] + par['slope']*t + par['noiseAmp']*sp.randn(len(t))"
     ],
     "language": "python",
     "metadata": {},
     "outputs": [],
     "prompt_number": 14
    },
    {
     "cell_type": "code",
     "collapsed": false,
     "input": [
      "# Select \"late\" values, i.e. with t>10\n",
      "xHigh = x[np.where(t>10)]\n",
      "tHigh = t[np.where(t>10)]\n",
      "\n",
      "# Plot the \"late\" data\n",
      "plt.close()\n",
      "plt.plot(tHigh, xHigh)"
     ],
     "language": "python",
     "metadata": {},
     "outputs": [
      {
       "metadata": {},
       "output_type": "pyout",
       "prompt_number": 15,
       "text": [
        "[<matplotlib.lines.Line2D at 0xee1db50>]"
       ]
      },
      {
       "metadata": {},
       "output_type": "display_data",
       "png": "[encoded data removed]",
       "text": [
        "<matplotlib.figure.Figure at 0x94e7b70>"
       ]
      }
     ],
     "prompt_number": 15
    },
    {
     "cell_type": "code",
     "collapsed": false,
     "input": [
      "# Determine the best-fit line\n",
      "# To do so, you have to generate a matrix with \"time\" in the first\n",
      "# column, and a column of \"1\" in the second column:\n",
      "xMat = np.vstack((tHigh, np.ones(len(tHigh)))).T\n",
      "slope, intercept = np.linalg.lstsq(xMat, xHigh)[0]"
     ],
     "language": "python",
     "metadata": {},
     "outputs": [],
     "prompt_number": 6
    },
    {
     "cell_type": "code",
     "collapsed": false,
     "input": [
      "# Show and plot the fit, and save it to a PNG-file with a medium resolution.\n",
      "# The \"modern\" way of Python-formatting is used\n",
      "plt.plot(tHigh, xHigh)\n",
      "plt.hold(True)\n",
      "plt.plot(tHigh, intercept + slope*tHigh, 'r')\n",
      "plt.show()\n",
      "plt.savefig('linefit.png', dpi=200)\n",
      "plt.close()\n",
      "print('Fit line: intercept = {0:5.3f}, and slope = {1:5.3f}'.format(intercept, slope))"
     ],
     "language": "python",
     "metadata": {},
     "outputs": [
      {
       "metadata": {},
       "output_type": "display_data",
       "png": "[encoded data removed]",
       "text": [
        "<matplotlib.figure.Figure at 0xee03850>"
       ]
      },
      {
       "output_type": "stream",
       "stream": "stdout",
       "text": [
        "Fit line: intercept = 99.381, and slope = 0.517\n"
       ]
      }
     ],
     "prompt_number": 16
    },
    {
     "cell_type": "heading",
     "level": 1,
     "metadata": {},
     "source": [
      "Pandas"
     ]
    },
    {
     "cell_type": "heading",
     "level": 1,
     "metadata": {},
     "source": [
      "More Python Info on the Web"
     ]
    },
    {
     "cell_type": "code",
     "collapsed": false,
     "input": [
      "# If you want to know confidence intervals, best switch to \"pandas\"\n",
      "# Note that this is an advanced topic, and requires new data structures\n",
      "# such ad \"DataFrames\" and \"ordinary-least-squares\" or \"ols-models\".\n",
      "myDict = {'x':tHigh, 'y':xHigh}\n",
      "df = pandas.DataFrame(myDict)\n",
      "model = pandas.ols(y=df['y'], x=df['x'])\n",
      "print(model)"
     ],
     "language": "python",
     "metadata": {},
     "outputs": [
      {
       "output_type": "stream",
       "stream": "stdout",
       "text": [
        "\n",
        "-------------------------Summary of Regression Analysis-------------------------\n",
        "\n",
        "Formula: Y ~ <x> + <intercept>\n",
        "\n",
        "Number of Observations:         89\n",
        "Number of Degrees of Freedom:   2\n",
        "\n",
        "R-squared:         0.9349\n",
        "Adj R-squared:     0.9341\n",
        "\n",
        "Rmse:              3.5652\n",
        "\n",
        "F-stat (1, 87):  1248.5262, p-value:     0.0000\n",
        "\n",
        "Degrees of Freedom: model 1, resid 87\n",
        "\n",
        "-----------------------Summary of Estimated Coefficients------------------------\n",
        "      Variable       Coef    Std Err     t-stat    p-value    CI 2.5%   CI 97.5%\n",
        "--------------------------------------------------------------------------------\n",
        "             x     0.5198     0.0147      35.33     0.0000     0.4909     0.5486\n",
        "     intercept    99.4186     0.8930     111.33     0.0000    97.6684   101.1688\n",
        "---------------------------------End of Summary---------------------------------\n",
        "\n"
       ]
      }
     ],
     "prompt_number": 17
    },
    {
     "cell_type": "code",
     "collapsed": false,
     "input": [
      "import sys\n",
      "print(sys.version)"
     ],
     "language": "python",
     "metadata": {},
     "outputs": [
      {
       "output_type": "stream",
       "stream": "stdout",
       "text": [
        "2.7.5 (default, May 15 2013, 22:43:36) [MSC v.1500 32 bit (Intel)]\n"
       ]
      }
     ],
     "prompt_number": 18
    },
    {
     "cell_type": "markdown",
     "metadata": {},
     "source": [
      "[http://docs.python.org/2/tutorial/](http://docs.python.org/2/tutorial/) The Python tutorial. The o\u000eriginal introduction.\n",
      "\n",
      "[http://jrjohansson.github.com/](http://jrjohansson.github.com/) Lectures on scienti\f",
      "c computing with Python. Great ipython notebooks!\n",
      "\n",
      "[http://scipy-lectures.github.com/](http://scipy-lectures.github.com/) Python Scienti\f",
      "c Lecture Notes. Pretty comprehensive.\n",
      "\n",
      "[http://www.greenteapress.com/thinkpython/](http://www.greenteapress.com/thinkpython/) ThinkPython A free book on Python.\n",
      "\n",
      "[http://www.scipy.org/NumPy for Matlab Users](http://www.scipy.org/NumPy for Matlab Users) Start here if you have lots of Matlab experience."
     ]
    }
   ],
   "metadata": {}
  }
 ]
}
