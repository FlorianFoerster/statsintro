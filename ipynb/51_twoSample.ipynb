{
 "metadata": {
  "name": "",
  "signature": "sha256:d7de66112e5b102e4926bd43a99205fbd029d748b791fa1e1f8b81a20e6c5ef7"
 },
 "nbformat": 3,
 "nbformat_minor": 0,
 "worksheets": [
  {
   "cells": [
    {
     "cell_type": "heading",
     "level": 1,
     "metadata": {},
     "source": [
      "Comparison of two groups"
     ]
    },
    {
     "cell_type": "markdown",
     "metadata": {},
     "source": [
      "- Analysis of paired data\n",
      "- Analysis of unpaired data\n",
      "\n",
      "Author:  Thomas Haslwanter, Date:    May-2014"
     ]
    },
    {
     "cell_type": "code",
     "collapsed": false,
     "input": [
      "%pylab inline\n",
      "#from numpy import genfromtxt, mean, std\n",
      "import scipy.stats as stats\n",
      "#import matplotlib.pyplot as plt\n",
      "from urllib.request import urlopen"
     ],
     "language": "python",
     "metadata": {},
     "outputs": [
      {
       "output_type": "stream",
       "stream": "stdout",
       "text": [
        "Populating the interactive namespace from numpy and matplotlib\n"
       ]
      }
     ],
     "prompt_number": 1
    },
    {
     "cell_type": "heading",
     "level": 2,
     "metadata": {},
     "source": [
      "Paired data"
     ]
    },
    {
     "cell_type": "code",
     "collapsed": false,
     "input": [
      "'''Analysis of paired data\n",
      "Compare mean daily intake over 10 pre-menstrual and 10 post-menstrual days (in kJ).'''\n",
      "\n",
      "# Get the data:  daily intake of energy in kJ for 11 women\n",
      "inFile = 'altman_93.txt'\n",
      "url_base = 'https://raw.github.com/thomas-haslwanter/statsintro/master/Data/data_altman/'\n",
      "url = url_base + inFile\n",
      "data = genfromtxt(urlopen(url), delimiter=',')\n",
      "\n",
      "mean(data, axis=0)\n",
      "std(data, axis=0, ddof=1)\n",
      "\n",
      "pre = data[:,0]\n",
      "post = data[:,1]"
     ],
     "language": "python",
     "metadata": {},
     "outputs": []
    },
    {
     "cell_type": "heading",
     "level": 3,
     "metadata": {},
     "source": [
      "Paired T-test"
     ]
    },
    {
     "cell_type": "code",
     "collapsed": false,
     "input": [
      "# paired t-test: doing two measurments on the same experimental unit\n",
      "# e.g., before and after a treatment\n",
      "t_statistic, p_value = stats.ttest_1samp(post - pre, 0)\n",
      "\n",
      "# p < 0.05 => alternative hypothesis:\n",
      "# the difference in mean is not equal to 0\n",
      "print(\"paired t-test\", p_value)"
     ],
     "language": "python",
     "metadata": {},
     "outputs": [
      {
       "output_type": "stream",
       "stream": "stdout",
       "text": [
        "paired t-test 3.05902094293e-07\n"
       ]
      }
     ],
     "prompt_number": 2
    },
    {
     "cell_type": "heading",
     "level": 3,
     "metadata": {},
     "source": [
      "Wilcoxon Test"
     ]
    },
    {
     "cell_type": "code",
     "collapsed": false,
     "input": [
      "# alternative to paired t-test when data has an ordinary scale or when not\n",
      "# normally distributed\n",
      "z_statistic, p_value = stats.wilcoxon(post - pre)\n",
      "print(\"paired wilcoxon-test\", p_value)"
     ],
     "language": "python",
     "metadata": {},
     "outputs": [
      {
       "output_type": "stream",
       "stream": "stdout",
       "text": [
        "paired wilcoxon-test 0.00333001391175\n"
       ]
      }
     ],
     "prompt_number": 3
    },
    {
     "cell_type": "heading",
     "level": 2,
     "metadata": {},
     "source": [
      "Unpaired Data"
     ]
    },
    {
     "cell_type": "code",
     "collapsed": false,
     "input": [
      "''' Then some unpaired comparison: 24 hour total energy expenditure (MJ/day),\n",
      "in groups of lean and obese women'''\n",
      "\n",
      "# Get the data: energy expenditure in mJ and stature (0=obese, 1=lean)\n",
      "inFile = 'altman_94.txt'\n",
      "url = url_base + inFile\n",
      "energ = genfromtxt(urlopen(url), delimiter=',')\n",
      "\n",
      "# Group them\n",
      "group1 = energ[:, 1] == 0\n",
      "group1 = energ[group1][:, 0]\n",
      "group2 = energ[:, 1] == 1\n",
      "group2 = energ[group2][:, 0]\n",
      "\n",
      "mean(group1)\n",
      "mean(group2)\n",
      "\n",
      "# two-sample t-test\n",
      "# null hypothesis: the two groups have the same mean\n",
      "# this test assumes the two groups have the same variance...\n",
      "# (can be checked with tests for equal variance)\n",
      "# independent groups: e.g., how boys and girls fare at an exam\n",
      "# dependent groups: e.g., how the same class fare at 2 different exams\n",
      "t_statistic, p_value = stats.ttest_ind(group1, group2)\n",
      "\n",
      "# p_value < 0.05 => alternative hypothesis:\n",
      "# they don't have the same mean at the 5% significance level\n",
      "print(\"two-sample t-test\", p_value)"
     ],
     "language": "python",
     "metadata": {},
     "outputs": [
      {
       "output_type": "stream",
       "stream": "stdout",
       "text": [
        "two-sample t-test 0.00079899821117\n"
       ]
      }
     ],
     "prompt_number": 4
    },
    {
     "cell_type": "code",
     "collapsed": false,
     "input": [
      "# For non-normally distributed data, perform the two-sample wilcoxon test\n",
      "# a.k.a Mann Whitney U\n",
      "u, p_value = stats.mannwhitneyu(group1, group2)\n",
      "print(\"two-sample wilcoxon-test\", p_value)"
     ],
     "language": "python",
     "metadata": {},
     "outputs": [
      {
       "output_type": "stream",
       "stream": "stdout",
       "text": [
        "two-sample wilcoxon-test 0.00106080669294\n"
       ]
      }
     ],
     "prompt_number": 5
    },
    {
     "cell_type": "code",
     "collapsed": false,
     "input": [
      "# Plot the data\n",
      "plt.plot(group1, 'bx', label='obese')\n",
      "plt.hold(True)\n",
      "plt.plot(group2, 'ro', label='lean')\n",
      "plt.legend(loc=0)"
     ],
     "language": "python",
     "metadata": {},
     "outputs": [
      {
       "metadata": {},
       "output_type": "pyout",
       "prompt_number": 6,
       "text": [
        "<matplotlib.legend.Legend at 0x8302ac8>"
       ]
      },
      {
       "metadata": {},
       "output_type": "display_data",
       "png": "[encoded data removed]",
       "text": [
        "<matplotlib.figure.Figure at 0x8302b00>"
       ]
      }
     ],
     "prompt_number": 6
    }
   ],
   "metadata": {}
  }
 ]
}