{
 "metadata": {
  "name": "",
  "signature": "sha256:4248b8b1044920fba587556ee74908062af0a7625055c2d9606be1af84125ab2"
 },
 "nbformat": 3,
 "nbformat_minor": 0,
 "worksheets": [
  {
   "cells": [
    {
     "cell_type": "heading",
     "level": 1,
     "metadata": {},
     "source": [
      "Analysis of categorical data"
     ]
    },
    {
     "cell_type": "markdown",
     "metadata": {},
     "source": [
      "- Analysis of one proportion\n",
      "- Chi-square test\n",
      "- Fisher exact test\n",
      "- Cochran's Q test\n",
      "\n",
      "Author:  Thomas Haslwanter, Date:    May-2014"
     ]
    },
    {
     "cell_type": "code",
     "collapsed": false,
     "input": [
      "%pylab inline\n",
      "import numpy as np\n",
      "import scipy.stats as stats"
     ],
     "language": "python",
     "metadata": {},
     "outputs": [
      {
       "output_type": "stream",
       "stream": "stdout",
       "text": [
        "Populating the interactive namespace from numpy and matplotlib\n"
       ]
      }
     ],
     "prompt_number": 1
    },
    {
     "cell_type": "heading",
     "level": 2,
     "metadata": {},
     "source": [
      "Analysis of one proportion"
     ]
    },
    {
     "cell_type": "markdown",
     "metadata": {},
     "source": [
      "Calculate the confidence intervals of the population, based on a given data sample.\n",
      "\n",
      "The data are taken from Altman, chapter 10.2.1."
     ]
    },
    {
     "cell_type": "code",
     "collapsed": false,
     "input": [
      "# Get the data\n",
      "numTotal = 215\n",
      "numPositive = 39\n",
      "\n",
      "# Calculate the confidence intervals\n",
      "p = float(numPositive)/numTotal\n",
      "se = np.sqrt(p*(1-p)/numTotal)\n",
      "td = stats.t(numTotal-1)\n",
      "ci = p + np.array([-1,1])*td.isf(0.025)*se\n",
      "\n",
      "# Print them\n",
      "print('ONE PROPORTION')\n",
      "print('The confidence interval for the given sample is {0:5.3f} to {1:5.3f}'.format(\n",
      "    ci[0], ci[1]))"
     ],
     "language": "python",
     "metadata": {},
     "outputs": [
      {
       "output_type": "stream",
       "stream": "stdout",
       "text": [
        "ONE PROPORTION\n",
        "The confidence interval for the given sample is 0.130 to 0.233\n"
       ]
      }
     ],
     "prompt_number": 3
    },
    {
     "cell_type": "heading",
     "level": 2,
     "metadata": {},
     "source": [
      "Chi-square test to a 2x2 table"
     ]
    },
    {
     "cell_type": "markdown",
     "metadata": {},
     "source": [
      "The calculations are done with and without Yate's continuity\n",
      "correction.\n",
      "Data are taken from Altman, Table 10.10:\n",
      "Comparison of number of hours' swimming by swimmers with or without erosion of dental enamel:"
     ]
    },
    {
     "cell_type": "raw",
     "metadata": {},
     "source": [
      ">= 6h: 32 yes, 118 no\n",
      "<  6h: 17 yes, 127 no"
     ]
    },
    {
     "cell_type": "code",
     "collapsed": false,
     "input": [
      "# Enter the data\n",
      "obs = np.array([[32, 118], [17, 127]])\n",
      "\n",
      "# Calculate the chi-square test\n",
      "chi2_corrected = stats.chi2_contingency(obs, correction=True)\n",
      "chi2_uncorrected = stats.chi2_contingency(obs, correction=False)\n",
      "\n",
      "# Print the result\n",
      "print('CHI SQUARE')\n",
      "print('The corrected chi2 value is {0:5.3f}, with p={1:5.3f}'.format(chi2_corrected[0], chi2_corrected[1]))\n",
      "print('The uncorrected chi2 value is {0:5.3f}, with p={1:5.3f}'.format(chi2_uncorrected[0], chi2_uncorrected[1]))"
     ],
     "language": "python",
     "metadata": {},
     "outputs": [
      {
       "output_type": "stream",
       "stream": "stdout",
       "text": [
        "CHI SQUARE\n",
        "The corrected chi2 value is 4.141, with p=0.042\n",
        "The uncorrected chi2 value is 4.802, with p=0.028\n"
       ]
      }
     ],
     "prompt_number": 6
    },
    {
     "cell_type": "heading",
     "level": 2,
     "metadata": {},
     "source": [
      "Fisher's Exact Test"
     ]
    },
    {
     "cell_type": "markdown",
     "metadata": {},
     "source": [
      "Data are taken from Altman, Table 10.14\n",
      "\n",
      "Spectacle wearing among juvenile delinquensts and non-delinquents who failed a vision test\n",
      "\n",
      "- Spectecle wearers: 1 delinquent, 5 non-delinquents\n",
      "- non-spectacle wearers: 8 delinquents, 2 non-delinquents'''"
     ]
    },
    {
     "cell_type": "code",
     "collapsed": false,
     "input": [
      "# Enter the data\n",
      "obs = np.array([[1,5], [8,2]])\n",
      "\n",
      "# Calculate the Fisher Exact Test\n",
      "fisher_result = stats.fisher_exact(obs)\n",
      "\n",
      "# Print the result\n",
      "print('The probability of obtaining a distribution at least as extreme '\n",
      "+ 'as the one that was actually observed, assuming that the null ' +\n",
      "    'hypothesis is true, is: {0:5.3f}.'.format(fisher_result[1]))"
     ],
     "language": "python",
     "metadata": {},
     "outputs": [
      {
       "output_type": "stream",
       "stream": "stdout",
       "text": [
        "FISHER\n",
        "The probability of obtaining a distribution at least as extreme as the one that was actually observed, assuming that the null hypothesis is true, is: 0.035.\n"
       ]
      }
     ],
     "prompt_number": 7
    },
    {
     "cell_type": "heading",
     "level": 2,
     "metadata": {},
     "source": [
      "Cochran's Q test"
     ]
    },
    {
     "cell_type": "markdown",
     "metadata": {},
     "source": [
      "12 subjects are asked to perform 3 tasks. The outcome of each task is \"success\" or \n",
      "\"failure\". The results are coded 0 for failure and 1 for success. In the example, subject 1 was successful\n",
      "in task 2, but failed tasks 1 and 3."
     ]
    },
    {
     "cell_type": "code",
     "collapsed": false,
     "input": [
      "from statsmodels.sandbox.stats.runs import cochrans_q\n",
      "import pandas as pd\n",
      "\n",
      "tasks = np.array([[0,1,1,0,1,0,0,1,0,0,0,0],\n",
      "                  [1,1,1,0,0,1,0,1,1,1,1,1],\n",
      "                  [0,0,1,0,0,1,0,0,0,0,0,0]])\n",
      "\n",
      "# I prefer a DataFrame here, as it indicates directly what the values mean\n",
      "df = pd.DataFrame(tasks.T, columns = ['Task1', 'Task2', 'Task3'])\n",
      "\n",
      "# --- >>> START stats <<< ---\n",
      "(Q, pVal) = cochrans_q(df)\n",
      "# --- >>> STOP stats <<< ---\n",
      "\n",
      "print('Q = {0:5.3f}, p = {1:5.3f}'.format(Q, pVal))\n",
      "if pVal < 0.05:\n",
      "    print(\"There is a significant difference between the three tasks.\")\n"
     ],
     "language": "python",
     "metadata": {},
     "outputs": [
      {
       "output_type": "stream",
       "stream": "stdout",
       "text": [
        "Q = 8.667, p = 0.013\n",
        "There is a significant difference between the three tasks.\n"
       ]
      }
     ],
     "prompt_number": 11
    }
   ],
   "metadata": {}
  }
 ]
}