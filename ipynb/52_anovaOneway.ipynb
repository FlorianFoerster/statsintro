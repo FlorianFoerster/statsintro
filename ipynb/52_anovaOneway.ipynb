{
 "metadata": {
  "name": "",
  "signature": "sha256:b01cf555eed68a014f56ebd022f229c087ef769f6cd05f4eda15fd69da989109"
 },
 "nbformat": 3,
 "nbformat_minor": 0,
 "worksheets": [
  {
   "cells": [
    {
     "cell_type": "heading",
     "level": 1,
     "metadata": {},
     "source": [
      "One-way ANOVA"
     ]
    },
    {
     "cell_type": "markdown",
     "metadata": {},
     "source": [
      "For the one-way ANOVA, you can use either the function in \"scipy.stats\". Alternatively, you can use the \"statsmodel\" tools: they provide more, and nicer formatted, information.\n",
      "\n",
      "Author:  Thomas Haslwanter, Date:    June-2014"
     ]
    },
    {
     "cell_type": "code",
     "collapsed": false,
     "input": [
      "%pylab inline\n",
      "import scipy.stats as stats\n",
      "import pandas as pd\n",
      "import urllib\n",
      "from statsmodels.formula.api import ols\n",
      "from statsmodels.stats.anova import anova_lm"
     ],
     "language": "python",
     "metadata": {},
     "outputs": [
      {
       "output_type": "stream",
       "stream": "stdout",
       "text": [
        "Populating the interactive namespace from numpy and matplotlib\n"
       ]
      }
     ],
     "prompt_number": 9
    },
    {
     "cell_type": "heading",
     "level": 3,
     "metadata": {},
     "source": [
      "Get and sort the data"
     ]
    },
    {
     "cell_type": "code",
     "collapsed": false,
     "input": [
      "# Get the data\n",
      "inFile = 'altman_910.txt'\n",
      "url_base = 'https://raw.githubusercontent.com/thomas-haslwanter/statsintro/master/Data/data_altman/'\n",
      "\n",
      "url = url_base + inFile\n",
      "data = genfromtxt(urllib.request.urlopen(url), delimiter=',')\n",
      "\n",
      "# Sort them into groups, according to column 1\n",
      "group1 = data[data[:,1]==1,0]\n",
      "group2 = data[data[:,1]==2,0]\n",
      "group3 = data[data[:,1]==3,0]"
     ],
     "language": "python",
     "metadata": {},
     "outputs": [],
     "prompt_number": 10
    },
    {
     "cell_type": "heading",
     "level": 3,
     "metadata": {},
     "source": [
      "Levene-test"
     ]
    },
    {
     "cell_type": "code",
     "collapsed": false,
     "input": [
      "# check if the variances are equal with the \"Levene\"-test\n",
      "(W,p) = stats.levene(group1, group2, group3)\n",
      "if p<0.05:\n",
      "    print('Warning: the p-value of the Levene test is <0.05: p={0}'.format(p))"
     ],
     "language": "python",
     "metadata": {},
     "outputs": [
      {
       "output_type": "stream",
       "stream": "stdout",
       "text": [
        "Warning: the p-value of the Levene test is <0.05: p=0.045846812634186246\n"
       ]
      }
     ],
     "prompt_number": 11
    },
    {
     "cell_type": "heading",
     "level": 3,
     "metadata": {},
     "source": [
      "One-way ANOVA"
     ]
    },
    {
     "cell_type": "code",
     "collapsed": false,
     "input": [
      "F_statistic, pVal = stats.f_oneway(group1, group2, group3)\n",
      "\n",
      "print('The results from the one-way ANOVA, with the data from Altman 910: F={0:.1f}, p={1:.5f}'.format(F_statistic, pVal))\n",
      "if pVal < 0.05:\n",
      "    print('One of the groups is significantly different.')"
     ],
     "language": "python",
     "metadata": {},
     "outputs": [
      {
       "output_type": "stream",
       "stream": "stdout",
       "text": [
        "The results from the one-way ANOVA, with the data from Altman 910: F=3.7, p=0.04359\n",
        "One of the groups is significantly different.\n"
       ]
      }
     ],
     "prompt_number": 12
    },
    {
     "cell_type": "heading",
     "level": 2,
     "metadata": {},
     "source": [
      "Elegant alternative implementation, with pandas & statsmodels"
     ]
    },
    {
     "cell_type": "code",
     "collapsed": false,
     "input": [
      "df = pd.DataFrame(data, columns=['value', 'treatment'])    \n",
      "model = ols('value ~ C(treatment)', df).fit()\n",
      "print(anova_lm(model))"
     ],
     "language": "python",
     "metadata": {},
     "outputs": [
      {
       "output_type": "stream",
       "stream": "stdout",
       "text": [
        "              df        sum_sq      mean_sq         F    PR(>F)\n",
        "C(treatment)   2  15515.766414  7757.883207  3.711336  0.043589\n",
        "Residual      19  39716.097222  2090.320906       NaN       NaN\n",
        "\n",
        "[2 rows x 5 columns]\n"
       ]
      }
     ],
     "prompt_number": 13
    }
   ],
   "metadata": {}
  }
 ]
}