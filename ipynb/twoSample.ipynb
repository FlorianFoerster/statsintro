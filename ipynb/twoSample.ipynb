{
 "metadata": {
  "name": "twoSample"
 },
 "nbformat": 3,
 "nbformat_minor": 0,
 "worksheets": [
  {
   "cells": [
    {
     "cell_type": "code",
     "collapsed": false,
     "input": [
      "''' Comparison of two groups\n",
      "- Analysis of paired data\n",
      "- Analysis of unpaired data\n",
      "\n",
      "'''\n",
      "\n",
      "'''\n",
      "Author:  Thomas Haslwanter\n",
      "Date:    May-2013\n",
      "Version: 1.5\n",
      "'''\n",
      "\n",
      "%pylab inline\n",
      "#from numpy import genfromtxt, mean, std\n",
      "import scipy.stats as stats\n",
      "#import matplotlib.pyplot as plt\n",
      "from urllib2 import urlopen"
     ],
     "language": "python",
     "metadata": {},
     "outputs": [
      {
       "output_type": "stream",
       "stream": "stdout",
       "text": [
        "\n",
        "Welcome to pylab, a matplotlib-based Python environment [backend: module://IPython.zmq.pylab.backend_inline].\n",
        "For more information, type 'help(pylab)'.\n"
       ]
      }
     ],
     "prompt_number": 5
    },
    {
     "cell_type": "heading",
     "level": 2,
     "metadata": {},
     "source": [
      "Paired data"
     ]
    },
    {
     "cell_type": "code",
     "collapsed": false,
     "input": [
      "'''Analysis of paired data\n",
      "Compare mean daily intake over 10 pre-menstrual and 10 post-menstrual days (in kJ).'''\n",
      "\n",
      "# Get the data:  daily intake of energy in kJ for 11 women\n",
      "inFile = 'altman_93.txt'\n",
      "url_base = 'https://raw.github.com/thomas-haslwanter/statsintro/master/Data/data_altman/'\n",
      "url = url_base + inFile\n",
      "data = genfromtxt(urlopen(url), delimiter=',')\n",
      "\n",
      "mean(data, axis=0)\n",
      "std(data, axis=0, ddof=1)\n",
      "\n",
      "pre = data[:,0]\n",
      "post = data[:,1]\n",
      "\n",
      "# paired t-test: doing two measurments on the same experimental unit\n",
      "# e.g., before and after a treatment\n",
      "t_statistic, p_value = stats.ttest_1samp(post - pre, 0)\n",
      "\n",
      "# p < 0.05 => alternative hypothesis:\n",
      "# the difference in mean is not equal to 0\n",
      "print(\"paired t-test\", p_value)"
     ],
     "language": "python",
     "metadata": {},
     "outputs": [
      {
       "output_type": "stream",
       "stream": "stdout",
       "text": [
        "('paired t-test', 3.0590209429348752e-07)\n"
       ]
      }
     ],
     "prompt_number": 6
    },
    {
     "cell_type": "code",
     "collapsed": false,
     "input": [
      "# alternative to paired t-test when data has an ordinary scale or when not\n",
      "# normally distributed\n",
      "z_statistic, p_value = stats.wilcoxon(post - pre)\n",
      "print(\"paired wilcoxon-test\", p_value)"
     ],
     "language": "python",
     "metadata": {},
     "outputs": [
      {
       "output_type": "stream",
       "stream": "stdout",
       "text": [
        "('paired wilcoxon-test', 0.0046360889354534881)\n"
       ]
      }
     ],
     "prompt_number": 7
    },
    {
     "cell_type": "heading",
     "level": 2,
     "metadata": {},
     "source": [
      "Unpaired Data"
     ]
    },
    {
     "cell_type": "code",
     "collapsed": false,
     "input": [
      "''' Then some unpaired comparison: 24 hour total energy expenditure (MJ/day),\n",
      "in groups of lean and obese women'''\n",
      "\n",
      "# Get the data: energy expenditure in mJ and stature (0=obese, 1=lean)\n",
      "inFile = 'altman_94.txt'\n",
      "url = url_base + inFile\n",
      "energ = genfromtxt(urlopen(url), delimiter=',')\n",
      "\n",
      "# Group them\n",
      "group1 = energ[:, 1] == 0\n",
      "group1 = energ[group1][:, 0]\n",
      "group2 = energ[:, 1] == 1\n",
      "group2 = energ[group2][:, 0]\n",
      "\n",
      "mean(group1)\n",
      "mean(group2)\n",
      "\n",
      "# two-sample t-test\n",
      "# null hypothesis: the two groups have the same mean\n",
      "# this test assumes the two groups have the same variance...\n",
      "# (can be checked with tests for equal variance)\n",
      "# independent groups: e.g., how boys and girls fare at an exam\n",
      "# dependent groups: e.g., how the same class fare at 2 different exams\n",
      "t_statistic, p_value = stats.ttest_ind(group1, group2)\n",
      "\n",
      "# p_value < 0.05 => alternative hypothesis:\n",
      "# they don't have the same mean at the 5% significance level\n",
      "print(\"two-sample t-test\", p_value)"
     ],
     "language": "python",
     "metadata": {},
     "outputs": [
      {
       "ename": "NameError",
       "evalue": "name 'getData' is not defined",
       "output_type": "pyerr",
       "traceback": [
        "\u001b[1;31m---------------------------------------------------------------------------\u001b[0m\n\u001b[1;31mNameError\u001b[0m                                 Traceback (most recent call last)",
        "\u001b[1;32m<ipython-input-8-6a2d23ec563f>\u001b[0m in \u001b[0;36m<module>\u001b[1;34m()\u001b[0m\n\u001b[0;32m      3\u001b[0m \u001b[1;33m\u001b[0m\u001b[0m\n\u001b[0;32m      4\u001b[0m \u001b[1;31m# Get the data: energy expenditure in mJ and stature (0=obese, 1=lean)\u001b[0m\u001b[1;33m\u001b[0m\u001b[1;33m\u001b[0m\u001b[0m\n\u001b[1;32m----> 5\u001b[1;33m \u001b[0menerg\u001b[0m \u001b[1;33m=\u001b[0m \u001b[0mgetData\u001b[0m\u001b[1;33m(\u001b[0m\u001b[1;34mr'data_altman/altman_94.txt'\u001b[0m\u001b[1;33m,\u001b[0m \u001b[0msubDir\u001b[0m\u001b[1;33m=\u001b[0m\u001b[1;34mr'../Data'\u001b[0m\u001b[1;33m)\u001b[0m\u001b[1;33m\u001b[0m\u001b[0m\n\u001b[0m\u001b[0;32m      6\u001b[0m \u001b[1;33m\u001b[0m\u001b[0m\n\u001b[0;32m      7\u001b[0m \u001b[1;31m# Group them\u001b[0m\u001b[1;33m\u001b[0m\u001b[1;33m\u001b[0m\u001b[0m\n",
        "\u001b[1;31mNameError\u001b[0m: name 'getData' is not defined"
       ]
      }
     ],
     "prompt_number": 8
    },
    {
     "cell_type": "code",
     "collapsed": false,
     "input": [
      "# For non-normally distributed data, perform the two-sample wilcoxon test\n",
      "# a.k.a Mann Whitney U\n",
      "u, p_value = stats.mannwhitneyu(group1, group2)\n",
      "print(\"two-sample wilcoxon-test\", p_value)"
     ],
     "language": "python",
     "metadata": {},
     "outputs": []
    },
    {
     "cell_type": "code",
     "collapsed": false,
     "input": [
      "# Plot the data\n",
      "plt.plot(group1, 'bx', label='obese')\n",
      "plt.hold(True)\n",
      "plt.plot(group2, 'ro', label='lean')\n",
      "plt.legend(loc=0)"
     ],
     "language": "python",
     "metadata": {},
     "outputs": []
    },
    {
     "cell_type": "heading",
     "level": 2,
     "metadata": {},
     "source": [
      "Regression Line"
     ]
    },
    {
     "cell_type": "code",
     "collapsed": false,
     "input": [
      "'''Fit a line, using the powerful \"ordinary least square\" method of pandas'''\n",
      "import pandas as pd\n",
      "\n",
      "# Get the data\n",
      "inFile = 'altman_11_6.txt'\n",
      "url = url_base + inFile\n",
      "data = genfromtxt(urlopen(url), delimiter=',')\n",
      "\n",
      "df = pd.DataFrame(data, columns=['glucose', 'Vcf'])\n",
      "model = pd.ols(y=df['Vcf'], x=df['glucose'])\n",
      "print model.summary    "
     ],
     "language": "python",
     "metadata": {},
     "outputs": []
    },
    {
     "cell_type": "heading",
     "level": 2,
     "metadata": {},
     "source": [
      "Correlation"
     ]
    },
    {
     "cell_type": "code",
     "collapsed": false,
     "input": [
      "'''Pearson correlation, and two types of rank correlation (Spearman, Kendall)\n",
      "Data from 24 type 1 diabetic patients, relating Fasting blood glucose (mmol/l) to\n",
      "mean circumferential shortening velocity (%/sec).'''\n",
      "\n",
      "# Get the data\n",
      "inFile = 'altman_11_1.txt'\n",
      "url = url_base + inFile\n",
      "data = genfromtxt(urlopen(url), delimiter=',')\n",
      "\n",
      "# Bring them into the dataframe-format\n",
      "df = pd.DataFrame(data, columns=['age', 'fat'])\n",
      "\n",
      "# Calculate correlations\n",
      "corr = {}\n",
      "corr['pearson'] = df['age'].corr(df['fat'], method = 'pearson')\n",
      "corr['spearman'] = df['age'].corr(df['fat'], method = 'spearman')\n",
      "corr['kendall'] = df['age'].corr(df['fat'], method = 'kendall')\n",
      "\n",
      "print(corr)    "
     ],
     "language": "python",
     "metadata": {},
     "outputs": []
    }
   ],
   "metadata": {}
  }
 ]
}