{
 "metadata": {
  "name": "twoSample"
 },
 "nbformat": 3,
 "nbformat_minor": 0,
 "worksheets": [
  {
   "cells": [
    {
     "cell_type": "code",
     "collapsed": false,
     "input": [
      "''' Comparison of two groups\n",
      "- Analysis of paired data\n",
      "- Analysis of unpaired data\n",
      "\n",
      "'''\n",
      "\n",
      "'''\n",
      "Author:  Thomas Haslwanter\n",
      "Date:    May-2013\n",
      "Version: 1.5\n",
      "'''\n",
      "\n",
      "%pylab inline\n",
      "#from numpy import genfromtxt, mean, std\n",
      "import scipy.stats as stats\n",
      "#import matplotlib.pyplot as plt\n",
      "from getdata import getData"
     ],
     "language": "python",
     "metadata": {},
     "outputs": [
      {
       "output_type": "stream",
       "stream": "stdout",
       "text": [
        "\n",
        "Welcome to pylab, a matplotlib-based Python environment [backend: module://IPython.zmq.pylab.backend_inline].\n",
        "For more information, type 'help(pylab)'.\n"
       ]
      }
     ],
     "prompt_number": 27
    },
    {
     "cell_type": "heading",
     "level": 2,
     "metadata": {},
     "source": [
      "Paired data"
     ]
    },
    {
     "cell_type": "code",
     "collapsed": false,
     "input": [
      "'''Analysis of paired data\n",
      "Compare mean daily intake over 10 pre-menstrual and 10 post-menstrual days (in kJ).'''\n",
      "\n",
      "# Get the data:  daily intake of energy in kJ for 11 women\n",
      "data = getData('altman_93.txt', subDir=r'..\\Data\\data_altman')\n",
      "\n",
      "mean(data, axis=0)\n",
      "std(data, axis=0, ddof=1)\n",
      "\n",
      "pre = data[:,0]\n",
      "post = data[:,1]\n",
      "\n",
      "# paired t-test: doing two measurments on the same experimental unit\n",
      "# e.g., before and after a treatment\n",
      "t_statistic, p_value = stats.ttest_1samp(post - pre, 0)\n",
      "\n",
      "# p < 0.05 => alternative hypothesis:\n",
      "# the difference in mean is not equal to 0\n",
      "print(\"paired t-test\", p_value)"
     ],
     "language": "python",
     "metadata": {},
     "outputs": [
      {
       "output_type": "stream",
       "stream": "stdout",
       "text": [
        "('paired t-test', 3.0590209429348752e-07)\n"
       ]
      }
     ],
     "prompt_number": 28
    },
    {
     "cell_type": "code",
     "collapsed": false,
     "input": [
      "# alternative to paired t-test when data has an ordinary scale or when not\n",
      "# normally distributed\n",
      "z_statistic, p_value = stats.wilcoxon(post - pre)\n",
      "print(\"paired wilcoxon-test\", p_value)"
     ],
     "language": "python",
     "metadata": {},
     "outputs": [
      {
       "output_type": "stream",
       "stream": "stdout",
       "text": [
        "('paired wilcoxon-test', 0.0046360889354534881)\n"
       ]
      }
     ],
     "prompt_number": 29
    },
    {
     "cell_type": "heading",
     "level": 2,
     "metadata": {},
     "source": [
      "Unpaired Data"
     ]
    },
    {
     "cell_type": "code",
     "collapsed": false,
     "input": [
      "''' Then some unpaired comparison: 24 hour total energy expenditure (MJ/day),\n",
      "in groups of lean and obese women'''\n",
      "\n",
      "# Get the data: energy expenditure in mJ and stature (0=obese, 1=lean)\n",
      "energ = getData('altman_94.txt', subDir=r'..\\data_altman')\n",
      "\n",
      "# Group them\n",
      "group1 = energ[:, 1] == 0\n",
      "group1 = energ[group1][:, 0]\n",
      "group2 = energ[:, 1] == 1\n",
      "group2 = energ[group2][:, 0]\n",
      "\n",
      "mean(group1)\n",
      "mean(group2)\n",
      "\n",
      "# two-sample t-test\n",
      "# null hypothesis: the two groups have the same mean\n",
      "# this test assumes the two groups have the same variance...\n",
      "# (can be checked with tests for equal variance)\n",
      "# independent groups: e.g., how boys and girls fare at an exam\n",
      "# dependent groups: e.g., how the same class fare at 2 different exams\n",
      "t_statistic, p_value = stats.ttest_ind(group1, group2)\n",
      "\n",
      "# p_value < 0.05 => alternative hypothesis:\n",
      "# they don't have the same mean at the 5% significance level\n",
      "print(\"two-sample t-test\", p_value)"
     ],
     "language": "python",
     "metadata": {},
     "outputs": [
      {
       "output_type": "stream",
       "stream": "stdout",
       "text": [
        "('two-sample t-test', 0.00079899821117005397)\n"
       ]
      }
     ],
     "prompt_number": 30
    },
    {
     "cell_type": "code",
     "collapsed": false,
     "input": [
      "# For non-normally distributed data, perform the two-sample wilcoxon test\n",
      "# a.k.a Mann Whitney U\n",
      "u, p_value = stats.mannwhitneyu(group1, group2)\n",
      "print(\"two-sample wilcoxon-test\", p_value)"
     ],
     "language": "python",
     "metadata": {},
     "outputs": [
      {
       "output_type": "stream",
       "stream": "stdout",
       "text": [
        "('two-sample wilcoxon-test', 0.0010608066929400244)\n"
       ]
      }
     ],
     "prompt_number": 31
    },
    {
     "cell_type": "code",
     "collapsed": false,
     "input": [
      "# Plot the data\n",
      "plt.plot(group1, 'bx', label='obese')\n",
      "plt.hold(True)\n",
      "plt.plot(group2, 'ro', label='lean')\n",
      "plt.legend(loc=0)"
     ],
     "language": "python",
     "metadata": {},
     "outputs": [
      {
       "output_type": "pyout",
       "prompt_number": 32,
       "text": [
        "<matplotlib.legend.Legend at 0x7b1ff90>"
       ]
      },
      {
       "output_type": "display_data",
       "png": "[encoded data removed]"
      }
     ],
     "prompt_number": 32
    },
    {
     "cell_type": "heading",
     "level": 2,
     "metadata": {},
     "source": [
      "Regression Line"
     ]
    },
    {
     "cell_type": "code",
     "collapsed": false,
     "input": [
      "'''Fit a line, using the powerful \"ordinary least square\" method of pandas'''\n",
      "import pandas as pd\n",
      "\n",
      "# Get the data\n",
      "data = getData('altman_11_6.txt', subDir=r'..\\data_altman')\n",
      "\n",
      "df = pd.DataFrame(data, columns=['glucose', 'Vcf'])\n",
      "model = pd.ols(y=df['Vcf'], x=df['glucose'])\n",
      "print model.summary    "
     ],
     "language": "python",
     "metadata": {},
     "outputs": [
      {
       "output_type": "stream",
       "stream": "stdout",
       "text": [
        "\n",
        "-------------------------Summary of Regression Analysis-------------------------\n",
        "\n",
        "Formula: Y ~ <x> + <intercept>\n",
        "\n",
        "Number of Observations:         23\n",
        "Number of Degrees of Freedom:   2\n",
        "\n",
        "R-squared:         0.1737\n",
        "Adj R-squared:     0.1343\n",
        "\n",
        "Rmse:              0.2167\n",
        "\n",
        "F-stat (1, 21):     4.4140, p-value:     0.0479\n",
        "\n",
        "Degrees of Freedom: model 1, resid 21\n",
        "\n",
        "-----------------------Summary of Estimated Coefficients------------------------\n",
        "      Variable       Coef    Std Err     t-stat    p-value    CI 2.5%   CI 97.5%\n",
        "--------------------------------------------------------------------------------\n",
        "             x     0.0220     0.0105       2.10     0.0479     0.0015     0.0425\n",
        "     intercept     1.0978     0.1175       9.34     0.0000     0.8676     1.3281\n",
        "---------------------------------End of Summary---------------------------------\n",
        "\n"
       ]
      }
     ],
     "prompt_number": 33
    },
    {
     "cell_type": "heading",
     "level": 2,
     "metadata": {},
     "source": [
      "Correlation"
     ]
    },
    {
     "cell_type": "code",
     "collapsed": false,
     "input": [
      "'''Pearson correlation, and two types of rank correlation (Spearman, Kendall)\n",
      "Data from 24 type 1 diabetic patients, relating Fasting blood glucose (mmol/l) to\n",
      "mean circumferential shortening velocity (%/sec).'''\n",
      "\n",
      "# Get the data\n",
      "data = getData('altman_11_1.txt', subDir=r'..\\data_altman')\n",
      "\n",
      "# Bring them into the dataframe-format\n",
      "df = pd.DataFrame(data, columns=['age', 'fat'])\n",
      "\n",
      "# Calculate correlations\n",
      "corr = {}\n",
      "corr['pearson'] = df['age'].corr(df['fat'], method = 'pearson')\n",
      "corr['spearman'] = df['age'].corr(df['fat'], method = 'spearman')\n",
      "corr['kendall'] = df['age'].corr(df['fat'], method = 'kendall')\n",
      "\n",
      "print(corr)    "
     ],
     "language": "python",
     "metadata": {},
     "outputs": [
      {
       "output_type": "stream",
       "stream": "stdout",
       "text": [
        "{'kendall': 0.57620948508912251, 'spearman': 0.75387958553761569, 'pearson': 0.79208623217849117}\n"
       ]
      }
     ],
     "prompt_number": 34
    }
   ],
   "metadata": {}
  }
 ]
}
