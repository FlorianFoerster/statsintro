{
 "metadata": {
  "name": ""
 },
 "nbformat": 3,
 "nbformat_minor": 0,
 "worksheets": [
  {
   "cells": [
    {
     "cell_type": "code",
     "collapsed": false,
     "input": [
      "''' Analysis of multivariate data\n",
      "- Regression line\n",
      "- Correlation\n",
      "\n",
      "'''\n",
      "\n",
      "'''\n",
      "Author:  Thomas Haslwanter\n",
      "Date:    Feb-2014\n",
      "Version: 1.6\n",
      "'''\n",
      "\n",
      "%pylab inline\n",
      "from numpy import genfromtxt, mean, std\n",
      "import scipy.stats as stats\n",
      "import matplotlib.pyplot as plt\n",
      "import pandas as pd\n",
      "from urllib.request import urlopen"
     ],
     "language": "python",
     "metadata": {},
     "outputs": [
      {
       "output_type": "stream",
       "stream": "stdout",
       "text": [
        "Populating the interactive namespace from numpy and matplotlib\n"
       ]
      }
     ],
     "prompt_number": 1
    },
    {
     "cell_type": "heading",
     "level": 2,
     "metadata": {},
     "source": [
      "Regression Line"
     ]
    },
    {
     "cell_type": "code",
     "collapsed": false,
     "input": [
      "'''Fit a line, using the powerful \"ordinary least square\" method of pandas'''\n",
      "\n",
      "# Get the data\n",
      "url_base = 'https://raw.github.com/thomas-haslwanter/statsintro/master/Data/data_altman/'\n",
      "inFile = 'altman_11_6.txt'\n",
      "url = url_base + inFile\n",
      "data = genfromtxt(urlopen(url), delimiter=',')\n",
      "\n",
      "df = pd.DataFrame(data, columns=['glucose', 'Vcf'])\n",
      "model = pd.ols(y=df['Vcf'], x=df['glucose'])\n",
      "print(model.summary)"
     ],
     "language": "python",
     "metadata": {},
     "outputs": [
      {
       "output_type": "stream",
       "stream": "stdout",
       "text": [
        "\n",
        "-------------------------Summary of Regression Analysis-------------------------\n",
        "\n",
        "Formula: Y ~ <x> + <intercept>\n",
        "\n",
        "Number of Observations:         23\n",
        "Number of Degrees of Freedom:   2\n",
        "\n",
        "R-squared:         0.1737\n",
        "Adj R-squared:     0.1343\n",
        "\n",
        "Rmse:              0.2167\n",
        "\n",
        "F-stat (1, 21):     4.4140, p-value:     0.0479\n",
        "\n",
        "Degrees of Freedom: model 1, resid 21\n",
        "\n",
        "-----------------------Summary of Estimated Coefficients------------------------\n",
        "      Variable       Coef    Std Err     t-stat    p-value    CI 2.5%   CI 97.5%\n",
        "--------------------------------------------------------------------------------\n",
        "             x     0.0220     0.0105       2.10     0.0479     0.0015     0.0425\n",
        "     intercept     1.0978     0.1175       9.34     0.0000     0.8676     1.3281\n",
        "---------------------------------End of Summary---------------------------------\n",
        "\n"
       ]
      }
     ],
     "prompt_number": 2
    },
    {
     "cell_type": "heading",
     "level": 2,
     "metadata": {},
     "source": [
      "Correlation"
     ]
    },
    {
     "cell_type": "code",
     "collapsed": false,
     "input": [
      "'''Pearson correlation, and two types of rank correlation (Spearman, Kendall)\n",
      "Data from 24 type 1 diabetic patients, relating Fasting blood glucose (mmol/l) to\n",
      "mean circumferential shortening velocity (%/sec).'''\n",
      "\n",
      "# Get the data\n",
      "inFile = 'altman_11_1.txt'\n",
      "url = url_base + inFile\n",
      "data = genfromtxt(urlopen(url), delimiter=',')\n",
      "\n",
      "# Bring them into the dataframe-format\n",
      "x = data[:,0]\n",
      "y = data[:,1]\n",
      "\n",
      "# Calculate correlations\n",
      "corr = {}\n",
      "corr['pearson'], _ = stats.pearsonr(x,y)\n",
      "corr['spearman'], _ = stats.spearmanr(x,y)\n",
      "corr['kendall'], _ = stats.kendalltau(x,y)\n",
      "\n",
      "print(corr)    "
     ],
     "language": "python",
     "metadata": {},
     "outputs": [
      {
       "output_type": "stream",
       "stream": "stdout",
       "text": [
        "{'pearson': 0.79208623217849106, 'kendall': 0.57620948508912251, 'spearman': 0.75387958553761569}\n"
       ]
      }
     ],
     "prompt_number": 3
    },
    {
     "cell_type": "code",
     "collapsed": false,
     "input": [
      "# Show that Spearman's rho is just the Pearson's R of the rank-ordered data\n",
      "r_rankordered = stats.pearsonr(stats.rankdata(x), stats.rankdata(y))[0]\n",
      "print(\"Spearman's rho = {0}, and Pearson's r (rankordered) = {1}\".format(corr['spearman'], r_rankordered))\n"
     ],
     "language": "python",
     "metadata": {},
     "outputs": [
      {
       "output_type": "stream",
       "stream": "stdout",
       "text": [
        "Spearman's rho = 0.7538795855376157, and Pearson's r (rankordered) = 0.7538795855376157\n"
       ]
      }
     ],
     "prompt_number": 4
    }
   ],
   "metadata": {}
  }
 ]
}