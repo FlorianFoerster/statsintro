{
 "metadata": {
  "name": "compGroups"
 },
 "nbformat": 3,
 "nbformat_minor": 0,
 "worksheets": [
  {
   "cells": [
    {
     "cell_type": "code",
     "collapsed": false,
     "input": [
      "''' Analysis of categorical data\n",
      "- Analysis of one proportion\n",
      "- Chi-square test\n",
      "- Fisher exact test\n",
      "\n",
      "'''\n",
      "\n",
      "'''\n",
      "Author:  Thomas Haslwanter\n",
      "Date:    May-2013\n",
      "Version: 1.1\n",
      "'''\n",
      "\n",
      "%pylab inline\n",
      "import numpy as np\n",
      "import scipy.stats as stats"
     ],
     "language": "python",
     "metadata": {},
     "outputs": [],
     "prompt_number": 2
    },
    {
     "cell_type": "code",
     "collapsed": false,
     "input": [
      "'''Calculate the confidence intervals of the population, based on a\n",
      "given data sample.\n",
      "The data are taken from Altman, chapter 10.2.1.'''\n",
      "\n",
      "# Get the data\n",
      "numTotal = 215\n",
      "numPositive = 39\n",
      "\n",
      "# Calculate the confidence intervals\n",
      "p = float(numPositive)/numTotal\n",
      "se = np.sqrt(p*(1-p)/numTotal)\n",
      "td = stats.t(numTotal-1)\n",
      "ci = p + np.array([-1,1])*td.isf(0.025)*se\n",
      "\n",
      "# Print them\n",
      "print('ONE PROPORTION')\n",
      "print('The confidence interval for the given sample is {0:5.3f} to {1:5.3f}'.format(\n",
      "    ci[0], ci[1]))"
     ],
     "language": "python",
     "metadata": {},
     "outputs": [
      {
       "output_type": "stream",
       "stream": "stdout",
       "text": [
        "ONE PROPORTION\n",
        "The confidence interval for the given sample is 0.130 to 0.233\n"
       ]
      }
     ],
     "prompt_number": 3
    },
    {
     "cell_type": "code",
     "collapsed": false,
     "input": [
      "''' Application of a chi square test to a 2x2 table.\n",
      "The calculations are done with and without Yate's continuity\n",
      "correction.\n",
      "Data are taken from Altman, Table 10.10:\n",
      "Comparison of number of hours' swimming by swimmers with or without erosion of dental enamel.\n",
      ">= 6h: 32 yes, 118 no\n",
      "<  6h: 17 yes, 127 no'''\n",
      "\n",
      "# Enter the data\n",
      "obs = np.array([[32, 118], [17, 127]])\n",
      "\n",
      "# Calculate the chi-square test\n",
      "chi2_corrected = stats.chi2_contingency(obs, correction=True)\n",
      "chi2_uncorrected = stats.chi2_contingency(obs, correction=False)\n",
      "\n",
      "# Print the result\n",
      "print('CHI SQUARE')\n",
      "print('The corrected chi2 value is {0:5.3f}, with p={1:5.3f}'.format(chi2_corrected[0], chi2_corrected[1]))\n",
      "print('The uncorrected chi2 value is {0:5.3f}, with p={1:5.3f}'.format(chi2_uncorrected[0], chi2_uncorrected[1]))"
     ],
     "language": "python",
     "metadata": {},
     "outputs": [
      {
       "output_type": "stream",
       "stream": "stdout",
       "text": [
        "CHI SQUARE\n",
        "The corrected chi2 value is 4.141, with p=0.042\n",
        "The uncorrected chi2 value is 4.802, with p=0.028\n"
       ]
      }
     ],
     "prompt_number": 9
    },
    {
     "cell_type": "code",
     "collapsed": false,
     "input": [
      "'''Fisher's Exact Test:\n",
      "Data are taken from Altman, Table 10.14\n",
      "Spectacle wearing among juvenile delinquensts and non-delinquents who failed a vision test\n",
      "Spectecle wearers: 1 delinquent, 5 non-delinquents\n",
      "non-spectacle wearers: 8 delinquents, 2 non-delinquents'''\n",
      "\n",
      "# Enter the data\n",
      "obs = np.array([[1,5], [8,2]])\n",
      "\n",
      "# Calculate the Fisher Exact Test\n",
      "fisher_result = stats.fisher_exact(obs)\n",
      "\n",
      "# Print the result\n",
      "print('FISHER')\n",
      "print('The probability of obtaining a distribution at least as extreme '\n",
      "+ 'as the one that was actually observed, assuming that the null ' +\n",
      "    'hypothesis is true, is: {0:5.3f}.'.format(fisher_result[1]))"
     ],
     "language": "python",
     "metadata": {},
     "outputs": [
      {
       "output_type": "stream",
       "stream": "stdout",
       "text": [
        "FISHER\n",
        "The probability of obtaining a distribution at least as extreme as the one that was actually observed, assuming that the null hypothesis is true, is: 0.035.\n"
       ]
      }
     ],
     "prompt_number": 10
    }
   ],
   "metadata": {}
  }
 ]
}