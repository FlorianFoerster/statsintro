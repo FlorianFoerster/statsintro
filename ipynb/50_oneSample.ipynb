{
 "metadata": {
  "name": "",
  "signature": "sha256:612ac7a367194392be05148c57db533c016d3f7be07f5565106e329b0c9ec566"
 },
 "nbformat": 3,
 "nbformat_minor": 0,
 "worksheets": [
  {
   "cells": [
    {
     "cell_type": "heading",
     "level": 1,
     "metadata": {},
     "source": [
      "Analysis of one sample of data"
     ]
    },
    {
     "cell_type": "markdown",
     "metadata": {},
     "source": [
      "This script shows how to\n",
      "\n",
      "- Use a t-test for a single mean\n",
      "- Use a non-parametric test (Wilcoxon signed rank) to check a single mean \n",
      "- Compare the values from the t-distribution with those of a normal distribution\n",
      "\n",
      "Author: Thomas Haslwanter, Date:   May-2014"
     ]
    },
    {
     "cell_type": "code",
     "collapsed": false,
     "input": [
      "%pylab inline\n",
      "import scipy.stats as stats\n",
      "from urllib.request import urlopen"
     ],
     "language": "python",
     "metadata": {},
     "outputs": [
      {
       "output_type": "stream",
       "stream": "stdout",
       "text": [
        "Populating the interactive namespace from numpy and matplotlib\n"
       ]
      }
     ],
     "prompt_number": 8
    },
    {
     "cell_type": "heading",
     "level": 2,
     "metadata": {},
     "source": [
      "Check Mean"
     ]
    },
    {
     "cell_type": "markdown",
     "metadata": {},
     "source": [
      "Data from Altman, check for significance of mean value.\n",
      "Compare average daily energy intake (kJ) over 10 days of 11 healthy women, and\n",
      "compare it to the recommended level of 7725 kJ."
     ]
    },
    {
     "cell_type": "code",
     "collapsed": false,
     "input": [
      "# Get data from Altman\n",
      "inFile = 'altman_91.txt'\n",
      "url_base = 'https://raw.github.com/thomas-haslwanter/statsintro/master/Data/data_altman/'\n",
      "url = url_base + inFile\n",
      "data = genfromtxt(urlopen(url), delimiter=',')\n",
      "\n",
      "# Watch out: by default the SD is calculated with 1/N!\n",
      "myMean = np.mean(data)\n",
      "mySD = np.std(data, ddof=1)\n",
      "print('Mean and SD: {0:4.2f} and {1:4.2f}'.format(myMean, mySD))\n",
      "\n",
      "# Confidence intervals\n",
      "tf = stats.t(len(data)-1)\n",
      "ci = np.mean(data) + stats.sem(data)*np.array([-1,1])*tf.isf(0.025)\n",
      "print('The confidence intervals are {0:4.2f} to {1:4.2f}.'.format(ci[0], ci[1]))\n",
      "\n",
      "# Check for significance\n",
      "checkValue = 7725\n",
      "t, prob = stats.ttest_1samp(data, checkValue)\n",
      "if prob < 0.05:\n",
      "    print('{0:4.2f} is significantly different from the mean (p={1:5.3f}).'.format(checkValue, prob))\n",
      "\n",
      "# For not normally distributed data, use the Wilcoxon signed rank test\n",
      "(rank, pVal) = stats.wilcoxon(data-checkValue)\n",
      "if pVal < 0.05:\n",
      "    issignificant = 'unlikely'\n",
      "else:\n",
      "    issignificant = 'likely'\n",
      "    \n",
      "print('It is ' + issignificant + ' that the value is {0:d}'.format(checkValue))"
     ],
     "language": "python",
     "metadata": {},
     "outputs": [
      {
       "output_type": "stream",
       "stream": "stdout",
       "text": [
        "Mean and SD: 6753.64 and 1142.12\n",
        "The confidence intervals are 5986.35 to 7520.93.\n",
        "7725.00 is significantly different from the mean (p=0.018).\n",
        "It is unlikely that the value is 7725\n"
       ]
      }
     ],
     "prompt_number": 9
    },
    {
     "cell_type": "heading",
     "level": 2,
     "metadata": {},
     "source": [
      "Compare with Normal Distribution"
     ]
    },
    {
     "cell_type": "code",
     "collapsed": false,
     "input": [
      "# generate the data\n",
      "np.random.seed(12345)\n",
      "normDist = stats.norm(loc=7, scale=3)\n",
      "data = normDist.rvs(100)\n",
      "checkVal = 6.5\n",
      "\n",
      "# t-tes\n",
      "t, tProb = stats.ttest_1samp(data, checkVal)\n",
      "\n",
      "# Comparison with corresponding normal distribution\n",
      "mmean = np.mean(data)\n",
      "mstd = np.std(data, ddof=1)\n",
      "normProb = stats.norm.cdf(6.5, loc=mmean,\n",
      "        scale=mstd/np.sqrt(len(data)))*2\n",
      "\n",
      "# compare\n",
      "print('The probability from the t-test is ' + '{0:4.3f}, and from the normal distribution {1:4.3f}'.format(tProb, normProb))\n"
     ],
     "language": "python",
     "metadata": {},
     "outputs": [
      {
       "output_type": "stream",
       "stream": "stdout",
       "text": [
        "The probability from the t-test is 0.057, and from the normal distribution 0.054\n"
       ]
      }
     ],
     "prompt_number": 10
    }
   ],
   "metadata": {}
  }
 ]
}