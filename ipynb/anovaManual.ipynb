{
 "metadata": {
  "name": "",
  "signature": "sha256:a6a31fd1afa4b13e247121a7222081b6e29e74ab13d7e2f0db19cc97c2c78994"
 },
 "nbformat": 3,
 "nbformat_minor": 0,
 "worksheets": [
  {
   "cells": [
    {
     "cell_type": "heading",
     "level": 1,
     "metadata": {},
     "source": [
      "ANOVA"
     ]
    },
    {
     "cell_type": "markdown",
     "metadata": {},
     "source": [
      "Explicit demonstration of properties of ANOVA.\n",
      "It shows that for the comparison of two groups, a one-way ANOVA is equivalent to a T-test:$$t^2 = F$$\n",
      "\n",
      "Author: Thomas Haslwanter, Date:   May-2014"
     ]
    },
    {
     "cell_type": "code",
     "collapsed": false,
     "input": [
      "%pylab inline\n",
      "import os\n",
      "import scipy as sp\n",
      "import scipy.stats as stats\n",
      "from numpy import array\n",
      "import pandas\n",
      "from statsmodels.formula.api import ols\n",
      "from statsmodels.stats.anova import anova_lm"
     ],
     "language": "python",
     "metadata": {},
     "outputs": [
      {
       "output_type": "stream",
       "stream": "stdout",
       "text": [
        "Populating the interactive namespace from numpy and matplotlib\n"
       ]
      }
     ],
     "prompt_number": 1
    },
    {
     "cell_type": "heading",
     "level": 2,
     "metadata": {},
     "source": [
      "Equivalence of ANOVA and T-test for 2-group comparison"
     ]
    },
    {
     "cell_type": "code",
     "collapsed": false,
     "input": [
      "# Get the data\n",
      "data = pandas.read_csv(r'..\\Data\\data_kaplan\\galton.csv')\n",
      "\n",
      "# First, calculate the F- and the T-values, ...\n",
      "F_statistic, pVal = stats.f_oneway(data['father'], data['mother'])\n",
      "t_val, pVal_t = stats.ttest_ind(data['father'], data['mother'])\n",
      "\n",
      "# ... and show that t**2 = F\n",
      "print('From the t-test we get t^2={0:5.3f}, and from the F-test F={1:5.3f}'.format(t_val**2, F_statistic))"
     ],
     "language": "python",
     "metadata": {},
     "outputs": [
      {
       "output_type": "stream",
       "stream": "stdout",
       "text": [
        "From the t-test we get t^2=2083.481, and from the F-test F=2083.481\n"
       ]
      }
     ],
     "prompt_number": 2
    },
    {
     "cell_type": "heading",
     "level": 2,
     "metadata": {},
     "source": [
      "ANOVA, calculated with a function"
     ]
    },
    {
     "cell_type": "code",
     "collapsed": false,
     "input": [
      "anova_results = anova_lm(ols('height ~ 1 + sex', data).fit())\n",
      "print(anova_results)"
     ],
     "language": "python",
     "metadata": {},
     "outputs": [
      {
       "output_type": "stream",
       "stream": "stdout",
       "text": [
        "           df       sum_sq      mean_sq           F         PR(>F)\n",
        "sex         1  5874.573234  5874.573234  933.184603  5.175573e-141\n",
        "Residual  896  5640.489138     6.295189         NaN            NaN\n",
        "\n",
        "[2 rows x 5 columns]\n"
       ]
      }
     ],
     "prompt_number": 3
    },
    {
     "cell_type": "heading",
     "level": 2,
     "metadata": {},
     "source": [
      "ANOVA, calculated by hand"
     ]
    },
    {
     "cell_type": "code",
     "collapsed": false,
     "input": [
      "#formulas fom Altman, p. 218\n",
      "grouped = data.groupby('sex')\n",
      "mdf = pandas.DataFrame({'male': grouped.get_group('M')['height'],\n",
      "                        'female': grouped.get_group('F')['height']})\n",
      "M = mdf.mean()\n",
      "n = mdf.count()\n",
      "S = sum((mdf**2).sum())\n",
      "T = sum(mdf.sum())\n",
      "B = sum(n*M**2)-T**2/sum(n)\n",
      "W = S - sum(n*M**2)\n",
      "N = sum(n)\n",
      "Total = B+W\n",
      "\n",
      "\n",
      "meanSq_group = B / (mdf.ndim-1)\n",
      "meanSq_res = W / (N-2)\n",
      "F = meanSq_group/meanSq_res\n",
      "print('The hand-calculated F-value is: {0:5.3f}'.format(F))"
     ],
     "language": "python",
     "metadata": {},
     "outputs": [
      {
       "output_type": "stream",
       "stream": "stdout",
       "text": [
        "The hand-calculated F-value is: 933.185\n"
       ]
      }
     ],
     "prompt_number": 4
    }
   ],
   "metadata": {}
  }
 ]
}